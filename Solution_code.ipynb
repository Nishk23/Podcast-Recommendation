{
 "cells": [
  {
   "cell_type": "code",
   "execution_count": 1,
   "metadata": {},
   "outputs": [],
   "source": [
    "import numpy as np\n",
    "import pandas as pd \n",
    "import os\n",
    "import re\n",
    "from sklearn.feature_extraction.text import TfidfVectorizer\n",
    "from sklearn.metrics.pairwise import linear_kernel"
   ]
  },
  {
   "cell_type": "code",
   "execution_count": 2,
   "metadata": {},
   "outputs": [],
   "source": [
    "from IPython.core.interactiveshell import InteractiveShell\n",
    "InteractiveShell.ast_node_interactivity = \"all\""
   ]
  },
  {
   "cell_type": "code",
   "execution_count": 3,
   "metadata": {},
   "outputs": [
    {
     "data": {
      "text/html": [
       "<div>\n",
       "<style scoped>\n",
       "    .dataframe tbody tr th:only-of-type {\n",
       "        vertical-align: middle;\n",
       "    }\n",
       "\n",
       "    .dataframe tbody tr th {\n",
       "        vertical-align: top;\n",
       "    }\n",
       "\n",
       "    .dataframe thead th {\n",
       "        text-align: right;\n",
       "    }\n",
       "</style>\n",
       "<table border=\"1\" class=\"dataframe\">\n",
       "  <thead>\n",
       "    <tr style=\"text-align: right;\">\n",
       "      <th></th>\n",
       "      <th>uuid</th>\n",
       "      <th>title</th>\n",
       "      <th>image</th>\n",
       "      <th>description</th>\n",
       "      <th>language</th>\n",
       "      <th>categories</th>\n",
       "      <th>website</th>\n",
       "      <th>author</th>\n",
       "      <th>itunes_id</th>\n",
       "    </tr>\n",
       "  </thead>\n",
       "  <tbody>\n",
       "    <tr>\n",
       "      <td>0</td>\n",
       "      <td>8d62d3880db2425b890b986e58aca393</td>\n",
       "      <td>Ecommerce Conversations, by Practical Ecommerce</td>\n",
       "      <td>http://is4.mzstatic.com/image/thumb/Music6/v4/...</td>\n",
       "      <td>Listen in as the Practical Ecommerce editorial...</td>\n",
       "      <td>English</td>\n",
       "      <td>Technology</td>\n",
       "      <td>http://www.practicalecommerce.com</td>\n",
       "      <td>Practical Ecommerce</td>\n",
       "      <td>874457373</td>\n",
       "    </tr>\n",
       "    <tr>\n",
       "      <td>1</td>\n",
       "      <td>cbbefd691915468c90f87ab2f00473f9</td>\n",
       "      <td>Eat Sleep Code Podcast</td>\n",
       "      <td>http://is4.mzstatic.com/image/thumb/Music71/v4...</td>\n",
       "      <td>On the show we’ll be talking to passionate peo...</td>\n",
       "      <td>English</td>\n",
       "      <td>Tech News | Technology</td>\n",
       "      <td>http://developer.telerik.com/</td>\n",
       "      <td>Telerik</td>\n",
       "      <td>1015556393</td>\n",
       "    </tr>\n",
       "    <tr>\n",
       "      <td>2</td>\n",
       "      <td>73626ad1edb74dbb8112cd159bda86cf</td>\n",
       "      <td>SoundtrackAlley</td>\n",
       "      <td>http://is5.mzstatic.com/image/thumb/Music71/v4...</td>\n",
       "      <td>A podcast about soundtracks and movies from my...</td>\n",
       "      <td>English</td>\n",
       "      <td>Podcasting | Technology</td>\n",
       "      <td>https://soundtrackalley.podbean.com</td>\n",
       "      <td>Randy Andrews</td>\n",
       "      <td>1158188937</td>\n",
       "    </tr>\n",
       "    <tr>\n",
       "      <td>3</td>\n",
       "      <td>0f50631ebad24cedb2fee80950f37a1a</td>\n",
       "      <td>The Tech M&amp;A Podcast</td>\n",
       "      <td>http://is1.mzstatic.com/image/thumb/Music71/v4...</td>\n",
       "      <td>The Tech M&amp;A Podcast pulls from the best of th...</td>\n",
       "      <td>English</td>\n",
       "      <td>Business News | Technology | Tech News | Business</td>\n",
       "      <td>http://www.corumgroup.com</td>\n",
       "      <td>Timothy Goddard</td>\n",
       "      <td>538160025</td>\n",
       "    </tr>\n",
       "    <tr>\n",
       "      <td>4</td>\n",
       "      <td>69580e7b419045839ca07af06cf0d653</td>\n",
       "      <td>The Tech Informist - For fans of Apple, Google...</td>\n",
       "      <td>http://is4.mzstatic.com/image/thumb/Music62/v4...</td>\n",
       "      <td>The tech news show with two guys shooting the ...</td>\n",
       "      <td>English</td>\n",
       "      <td>Gadgets | Tech News | Technology</td>\n",
       "      <td>http://techinformist.com</td>\n",
       "      <td>The Tech Informist</td>\n",
       "      <td>916080498</td>\n",
       "    </tr>\n",
       "  </tbody>\n",
       "</table>\n",
       "</div>"
      ],
      "text/plain": [
       "                               uuid  \\\n",
       "0  8d62d3880db2425b890b986e58aca393   \n",
       "1  cbbefd691915468c90f87ab2f00473f9   \n",
       "2  73626ad1edb74dbb8112cd159bda86cf   \n",
       "3  0f50631ebad24cedb2fee80950f37a1a   \n",
       "4  69580e7b419045839ca07af06cf0d653   \n",
       "\n",
       "                                               title  \\\n",
       "0    Ecommerce Conversations, by Practical Ecommerce   \n",
       "1                             Eat Sleep Code Podcast   \n",
       "2                                    SoundtrackAlley   \n",
       "3                               The Tech M&A Podcast   \n",
       "4  The Tech Informist - For fans of Apple, Google...   \n",
       "\n",
       "                                               image  \\\n",
       "0  http://is4.mzstatic.com/image/thumb/Music6/v4/...   \n",
       "1  http://is4.mzstatic.com/image/thumb/Music71/v4...   \n",
       "2  http://is5.mzstatic.com/image/thumb/Music71/v4...   \n",
       "3  http://is1.mzstatic.com/image/thumb/Music71/v4...   \n",
       "4  http://is4.mzstatic.com/image/thumb/Music62/v4...   \n",
       "\n",
       "                                         description language  \\\n",
       "0  Listen in as the Practical Ecommerce editorial...  English   \n",
       "1  On the show we’ll be talking to passionate peo...  English   \n",
       "2  A podcast about soundtracks and movies from my...  English   \n",
       "3  The Tech M&A Podcast pulls from the best of th...  English   \n",
       "4  The tech news show with two guys shooting the ...  English   \n",
       "\n",
       "                                          categories  \\\n",
       "0                                         Technology   \n",
       "1                             Tech News | Technology   \n",
       "2                            Podcasting | Technology   \n",
       "3  Business News | Technology | Tech News | Business   \n",
       "4                   Gadgets | Tech News | Technology   \n",
       "\n",
       "                               website               author   itunes_id  \n",
       "0    http://www.practicalecommerce.com  Practical Ecommerce   874457373  \n",
       "1        http://developer.telerik.com/              Telerik  1015556393  \n",
       "2  https://soundtrackalley.podbean.com        Randy Andrews  1158188937  \n",
       "3            http://www.corumgroup.com      Timothy Goddard   538160025  \n",
       "4             http://techinformist.com   The Tech Informist   916080498  "
      ]
     },
     "execution_count": 3,
     "metadata": {},
     "output_type": "execute_result"
    }
   ],
   "source": [
    "podcasts = pd.read_csv('podcasts.csv')\n",
    "podcasts.head()"
   ]
  },
  {
   "cell_type": "code",
   "execution_count": 4,
   "metadata": {},
   "outputs": [
    {
     "name": "stdout",
     "output_type": "stream",
     "text": [
      "<class 'pandas.core.frame.DataFrame'>\n",
      "RangeIndex: 121175 entries, 0 to 121174\n",
      "Data columns (total 9 columns):\n",
      "uuid           121175 non-null object\n",
      "title          121173 non-null object\n",
      "image          121175 non-null object\n",
      "description    119832 non-null object\n",
      "language       121175 non-null object\n",
      "categories     121175 non-null object\n",
      "website        120005 non-null object\n",
      "author         118678 non-null object\n",
      "itunes_id      121175 non-null int64\n",
      "dtypes: int64(1), object(8)\n",
      "memory usage: 8.3+ MB\n"
     ]
    }
   ],
   "source": [
    "podcasts.info()"
   ]
  },
  {
   "cell_type": "code",
   "execution_count": 5,
   "metadata": {},
   "outputs": [
    {
     "data": {
      "text/html": [
       "<div>\n",
       "<style scoped>\n",
       "    .dataframe tbody tr th:only-of-type {\n",
       "        vertical-align: middle;\n",
       "    }\n",
       "\n",
       "    .dataframe tbody tr th {\n",
       "        vertical-align: top;\n",
       "    }\n",
       "\n",
       "    .dataframe thead th {\n",
       "        text-align: right;\n",
       "    }\n",
       "</style>\n",
       "<table border=\"1\" class=\"dataframe\">\n",
       "  <thead>\n",
       "    <tr style=\"text-align: right;\">\n",
       "      <th></th>\n",
       "      <th>language</th>\n",
       "    </tr>\n",
       "  </thead>\n",
       "  <tbody>\n",
       "    <tr>\n",
       "      <td>English</td>\n",
       "      <td>99316</td>\n",
       "    </tr>\n",
       "    <tr>\n",
       "      <td>German</td>\n",
       "      <td>4316</td>\n",
       "    </tr>\n",
       "    <tr>\n",
       "      <td>French</td>\n",
       "      <td>3874</td>\n",
       "    </tr>\n",
       "    <tr>\n",
       "      <td>Spanish</td>\n",
       "      <td>3637</td>\n",
       "    </tr>\n",
       "    <tr>\n",
       "      <td>Portuguese</td>\n",
       "      <td>1827</td>\n",
       "    </tr>\n",
       "    <tr>\n",
       "      <td>Swedish</td>\n",
       "      <td>1698</td>\n",
       "    </tr>\n",
       "    <tr>\n",
       "      <td>Chinese</td>\n",
       "      <td>1329</td>\n",
       "    </tr>\n",
       "    <tr>\n",
       "      <td>Japanese</td>\n",
       "      <td>1097</td>\n",
       "    </tr>\n",
       "    <tr>\n",
       "      <td>Italian</td>\n",
       "      <td>818</td>\n",
       "    </tr>\n",
       "    <tr>\n",
       "      <td>Russian</td>\n",
       "      <td>602</td>\n",
       "    </tr>\n",
       "  </tbody>\n",
       "</table>\n",
       "</div>"
      ],
      "text/plain": [
       "            language\n",
       "English        99316\n",
       "German          4316\n",
       "French          3874\n",
       "Spanish         3637\n",
       "Portuguese      1827\n",
       "Swedish         1698\n",
       "Chinese         1329\n",
       "Japanese        1097\n",
       "Italian          818\n",
       "Russian          602"
      ]
     },
     "execution_count": 5,
     "metadata": {},
     "output_type": "execute_result"
    }
   ],
   "source": [
    "(podcasts.language.value_counts().to_frame().head(10))"
   ]
  },
  {
   "cell_type": "code",
   "execution_count": 6,
   "metadata": {},
   "outputs": [],
   "source": [
    "podcasts = podcasts[podcasts.language == 'English']"
   ]
  },
  {
   "cell_type": "code",
   "execution_count": 7,
   "metadata": {},
   "outputs": [
    {
     "data": {
      "text/plain": [
       "0"
      ]
     },
     "execution_count": 7,
     "metadata": {},
     "output_type": "execute_result"
    }
   ],
   "source": [
    "podcasts = podcasts.dropna(subset=['description'])\n",
    "podcasts = podcasts.drop_duplicates('itunes_id')\n",
    "sum(podcasts.description.isnull())"
   ]
  },
  {
   "cell_type": "code",
   "execution_count": 8,
   "metadata": {},
   "outputs": [
    {
     "data": {
      "text/plain": [
       "count    98173.000000\n",
       "mean        39.168753\n",
       "std        107.098547\n",
       "min          0.000000\n",
       "25%         11.000000\n",
       "50%         26.000000\n",
       "75%         51.000000\n",
       "max      30157.000000\n",
       "Name: description_length, dtype: float64"
      ]
     },
     "execution_count": 8,
     "metadata": {},
     "output_type": "execute_result"
    }
   ],
   "source": [
    "podcasts['description_length'] = [len(x.description.split()) for _, x in podcasts.iterrows()]\n",
    "podcasts['description_length'].describe()"
   ]
  },
  {
   "cell_type": "code",
   "execution_count": 9,
   "metadata": {},
   "outputs": [],
   "source": [
    "podcasts = podcasts[podcasts.description_length >= 20]"
   ]
  },
  {
   "cell_type": "code",
   "execution_count": 10,
   "metadata": {},
   "outputs": [
    {
     "data": {
      "text/html": [
       "<div>\n",
       "<style scoped>\n",
       "    .dataframe tbody tr th:only-of-type {\n",
       "        vertical-align: middle;\n",
       "    }\n",
       "\n",
       "    .dataframe tbody tr th {\n",
       "        vertical-align: top;\n",
       "    }\n",
       "\n",
       "    .dataframe thead th {\n",
       "        text-align: right;\n",
       "    }\n",
       "</style>\n",
       "<table border=\"1\" class=\"dataframe\">\n",
       "  <thead>\n",
       "    <tr style=\"text-align: right;\">\n",
       "      <th></th>\n",
       "      <th>uuid</th>\n",
       "      <th>title</th>\n",
       "      <th>image</th>\n",
       "      <th>description</th>\n",
       "      <th>language</th>\n",
       "      <th>categories</th>\n",
       "      <th>website</th>\n",
       "      <th>author</th>\n",
       "      <th>itunes_id</th>\n",
       "      <th>description_length</th>\n",
       "    </tr>\n",
       "  </thead>\n",
       "  <tbody>\n",
       "    <tr>\n",
       "      <td>8793</td>\n",
       "      <td>5e36f857ce1e46b59285a348c7a650d5</td>\n",
       "      <td>Up and Vanished</td>\n",
       "      <td>http://is3.mzstatic.com/image/thumb/Music127/v...</td>\n",
       "      <td>Up and Vanished is an investigative podcast th...</td>\n",
       "      <td>English</td>\n",
       "      <td>Personal Journals | Society &amp; Culture | News &amp;...</td>\n",
       "      <td>https://art19.com/shows/up-and-vanished</td>\n",
       "      <td>audioBoom</td>\n",
       "      <td>1140596919</td>\n",
       "      <td>62</td>\n",
       "    </tr>\n",
       "    <tr>\n",
       "      <td>41353</td>\n",
       "      <td>f44c20c54eeb482ca6927d4b28a387aa</td>\n",
       "      <td>The MFCEO Project</td>\n",
       "      <td>http://is4.mzstatic.com/image/thumb/Music118/v...</td>\n",
       "      <td>Do you want to fulfill your own true potential...</td>\n",
       "      <td>English</td>\n",
       "      <td>Business | Self-Help | Health | Management &amp; M...</td>\n",
       "      <td>http://themfceo.com/podcast</td>\n",
       "      <td>Vaughn Kohler</td>\n",
       "      <td>1012570406</td>\n",
       "      <td>117</td>\n",
       "    </tr>\n",
       "    <tr>\n",
       "      <td>69436</td>\n",
       "      <td>eb67f7b49f4c45bd8b69f5c13bebded2</td>\n",
       "      <td>Lore</td>\n",
       "      <td>http://is3.mzstatic.com/image/thumb/Music62/v4...</td>\n",
       "      <td>Lore is a bi-weekly podcast (and upcoming TV s...</td>\n",
       "      <td>English</td>\n",
       "      <td>Arts | Literature | History | Society &amp; Culture</td>\n",
       "      <td>http://www.lorepodcast.com</td>\n",
       "      <td>Aaron Mahnke</td>\n",
       "      <td>978052928</td>\n",
       "      <td>41</td>\n",
       "    </tr>\n",
       "  </tbody>\n",
       "</table>\n",
       "</div>"
      ],
      "text/plain": [
       "                                   uuid              title  \\\n",
       "8793   5e36f857ce1e46b59285a348c7a650d5    Up and Vanished   \n",
       "41353  f44c20c54eeb482ca6927d4b28a387aa  The MFCEO Project   \n",
       "69436  eb67f7b49f4c45bd8b69f5c13bebded2               Lore   \n",
       "\n",
       "                                                   image  \\\n",
       "8793   http://is3.mzstatic.com/image/thumb/Music127/v...   \n",
       "41353  http://is4.mzstatic.com/image/thumb/Music118/v...   \n",
       "69436  http://is3.mzstatic.com/image/thumb/Music62/v4...   \n",
       "\n",
       "                                             description language  \\\n",
       "8793   Up and Vanished is an investigative podcast th...  English   \n",
       "41353  Do you want to fulfill your own true potential...  English   \n",
       "69436  Lore is a bi-weekly podcast (and upcoming TV s...  English   \n",
       "\n",
       "                                              categories  \\\n",
       "8793   Personal Journals | Society & Culture | News &...   \n",
       "41353  Business | Self-Help | Health | Management & M...   \n",
       "69436    Arts | Literature | History | Society & Culture   \n",
       "\n",
       "                                       website         author   itunes_id  \\\n",
       "8793   https://art19.com/shows/up-and-vanished      audioBoom  1140596919   \n",
       "41353              http://themfceo.com/podcast  Vaughn Kohler  1012570406   \n",
       "69436               http://www.lorepodcast.com   Aaron Mahnke   978052928   \n",
       "\n",
       "       description_length  \n",
       "8793                   62  \n",
       "41353                 117  \n",
       "69436                  41  "
      ]
     },
     "execution_count": 10,
     "metadata": {},
     "output_type": "execute_result"
    }
   ],
   "source": [
    "favorite_podcasts = ['The MFCEO Project', 'Up and Vanished', 'Lore']\n",
    "favorites = podcasts[podcasts.title.isin(favorite_podcasts)]\n",
    "favorites"
   ]
  },
  {
   "cell_type": "code",
   "execution_count": 11,
   "metadata": {},
   "outputs": [],
   "source": [
    "podcasts = podcasts[~podcasts.isin(favorites)].sample(15000)\n",
    "data = pd.concat([podcasts, favorites], sort = True).reset_index(drop = True)"
   ]
  },
  {
   "cell_type": "code",
   "execution_count": 12,
   "metadata": {},
   "outputs": [
    {
     "data": {
      "text/plain": [
       "<15003x851518 sparse matrix of type '<class 'numpy.float64'>'\n",
       "\twith 1368255 stored elements in Compressed Sparse Row format>"
      ]
     },
     "execution_count": 12,
     "metadata": {},
     "output_type": "execute_result"
    }
   ],
   "source": [
    "tf = TfidfVectorizer(analyzer = 'word', ngram_range = (1, 3), min_df = 0, stop_words = \"english\")\n",
    "tf_idf = tf.fit_transform(data['description'])\n",
    "tf_idf"
   ]
  },
  {
   "cell_type": "code",
   "execution_count": 13,
   "metadata": {},
   "outputs": [
    {
     "data": {
      "text/plain": [
       "array([[1.00000000e+00, 0.00000000e+00, 0.00000000e+00, ...,\n",
       "        0.00000000e+00, 7.35426392e-04, 0.00000000e+00],\n",
       "       [0.00000000e+00, 1.00000000e+00, 0.00000000e+00, ...,\n",
       "        0.00000000e+00, 0.00000000e+00, 0.00000000e+00],\n",
       "       [0.00000000e+00, 0.00000000e+00, 1.00000000e+00, ...,\n",
       "        4.37185227e-04, 3.75531884e-04, 6.26389884e-04],\n",
       "       ...,\n",
       "       [0.00000000e+00, 0.00000000e+00, 4.37185227e-04, ...,\n",
       "        1.00000000e+00, 2.90885192e-04, 4.33390047e-03],\n",
       "       [7.35426392e-04, 0.00000000e+00, 3.75531884e-04, ...,\n",
       "        2.90885192e-04, 1.00000000e+00, 4.16774241e-04],\n",
       "       [0.00000000e+00, 0.00000000e+00, 6.26389884e-04, ...,\n",
       "        4.33390047e-03, 4.16774241e-04, 1.00000000e+00]])"
      ]
     },
     "execution_count": 13,
     "metadata": {},
     "output_type": "execute_result"
    }
   ],
   "source": [
    "similarity = linear_kernel(tf_idf, tf_idf)\n",
    "similarity"
   ]
  },
  {
   "cell_type": "code",
   "execution_count": 14,
   "metadata": {},
   "outputs": [
    {
     "name": "stdout",
     "output_type": "stream",
     "text": [
      "0.04492998758407775 - Visions of Education - Visions of Education is an education podcast where education professor Dan Krutka and high school teacher Michael Milton have conversations with educators to discuss their big ideas in education. \n",
      "\n",
      "0.047082987801297535 - The Vanished Podcast - \n",
      "      The Vanished is a true crime podcast that explores the stories of those who have gone missing.  Join host, Marissa Jones, as she investigates each case, often interviewing the loved ones who are still searching for answers.  \n",
      "     \n",
      "\n",
      "0.18360166779553216 - VANISHED: The Tara Calico Investigation - An investigative podcast that explores the unsolved disappearance of the University of New Mexico student, Tara Calico, a 29 year-old mystery that is hailed by Investigative Discovery Magazine as one of their top ten unsolved cases. Come along with host Melinda Esquibel, a former classmate to Tara Calico &amp; a filmmaker turned amateur investigator, as we examine the old case files from the Sheriff's office. Follow us on Twitter @VanishedPodcast on Facebook @Vanished: The Tara Calico Story on Instagram @Justice4TaraCalico\n",
      "Copyright Mundo Maravilla 2017 \n",
      "\n",
      "Original - Up and Vanished is an investigative podcast that explores the unsolved disappearance of Georgia beauty queen and high school teacher, Tara Grinstead. The 11-year-old cold case is the largest case file in the history of Georgia. Follow along as host Payne Lindsey, a film director turned amateur investigator, examines old case evidence and re-interviews persons of interest. What happened to Tara Grinstead?\n"
     ]
    }
   ],
   "source": [
    "x = data[data.title == 'Up and Vanished'].index[0]\n",
    "similar_idx = similarity[x].argsort(axis = 0)[-4:-1]\n",
    "for i in similar_idx:\n",
    "    print(similarity[x][i], '-', data.title[i], '-', data.description[i], '\\n')\n",
    "print('Original - ' + data.description[x])"
   ]
  },
  {
   "cell_type": "code",
   "execution_count": 15,
   "metadata": {},
   "outputs": [
    {
     "name": "stdout",
     "output_type": "stream",
     "text": [
      "0.04046759143867778 - From & Inspired BY - A bi-weekly podcast that discusses the seminal soundtracks in movie history. We speak with the individuals behind the tunes -- musicians, music supervisors, actors, and more. \n",
      "\n",
      "0.04184147227347315 - The SciFi Podcast - Welcome to The Sci-Fi Podcast, a bi-weekly podcast focused on in-depth discussion of all things Science Fiction. The Sci-Fi Podcast features three hosts — Mattroid, Solo, and Station! — and frequent guests. Each episode we look at a science fiction theme or franchise and take the discussion where no show has gone before. \n",
      "\n",
      "0.04382610613892137 - The Talk-O-Tuesday Podcast - A multi subject bi-weekly podcast covering everything from entertainment to current social events. We will take to the streets and introduce a new Los Angeles Taco Tuesday spot every episode \n",
      "\n",
      "Original - Lore is a bi-weekly podcast (and upcoming TV show) about the dark historical tales that fuel our modern superstitions. Each episode explores the world of mysterious creatures, tragic events, and unusual places.\n",
      "\n",
      "Because sometimes the truth is more frightening than fiction.\n"
     ]
    }
   ],
   "source": [
    "x = data[data.title == 'Lore'].index[0]\n",
    "similar_idx = similarity[x].argsort(axis = 0)[-4:-1]\n",
    "for i in similar_idx:\n",
    "    print(similarity[x][i], '-', data.title[i], '-', data.description[i], '\\n')\n",
    "print('Original - ' + data.description[x])"
   ]
  },
  {
   "cell_type": "code",
   "execution_count": null,
   "metadata": {},
   "outputs": [],
   "source": []
  }
 ],
 "metadata": {
  "kernelspec": {
   "display_name": "Python 3",
   "language": "python",
   "name": "python3"
  },
  "language_info": {
   "codemirror_mode": {
    "name": "ipython",
    "version": 3
   },
   "file_extension": ".py",
   "mimetype": "text/x-python",
   "name": "python",
   "nbconvert_exporter": "python",
   "pygments_lexer": "ipython3",
   "version": "3.7.4"
  }
 },
 "nbformat": 4,
 "nbformat_minor": 4
}
